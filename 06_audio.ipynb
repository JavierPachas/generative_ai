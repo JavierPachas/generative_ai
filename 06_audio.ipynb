{
  "cells": [
    {
      "cell_type": "markdown",
      "metadata": {
        "id": "view-in-github",
        "colab_type": "text"
      },
      "source": [
        "<a href=\"https://colab.research.google.com/github/JavierPachas/generative_ai/blob/main/06_audio.ipynb\" target=\"_parent\"><img src=\"https://colab.research.google.com/assets/colab-badge.svg\" alt=\"Open In Colab\"/></a>"
      ]
    },
    {
      "cell_type": "markdown",
      "metadata": {
        "id": "Sxg2LtGlQ_wC"
      },
      "source": [
        "# Audio Generation Using Diffusion Models"
      ]
    },
    {
      "cell_type": "code",
      "execution_count": null,
      "metadata": {
        "id": "x46alfykAEww"
      },
      "outputs": [],
      "source": [
        "# Install required libraries\n",
        "!pip install diffusers transformers ftfy scipy\n",
        "\n",
        "# Import necessary libraries\n",
        "from diffusers import AudioLDMPipeline\n",
        "import torch\n",
        "import soundfile as sf\n",
        "from IPython.display import Audio\n"
      ]
    },
    {
      "cell_type": "code",
      "execution_count": null,
      "metadata": {
        "id": "hMMsgqGwAHld"
      },
      "outputs": [],
      "source": [
        "# Initialize the AudioLDMPipeline\n",
        "pipe = AudioLDMPipeline.from_pretrained(\"cvssp/audioldm-s-full-v2\", torch_dtype=torch.float16).to(\"cuda\")\n"
      ]
    },
    {
      "cell_type": "code",
      "execution_count": null,
      "metadata": {
        "id": "vYgnaMXOAI6s"
      },
      "outputs": [],
      "source": [
        "# Set the parameters for audio generation\n",
        "text_prompt = \"A symphony of nature, combining the sounds of a flowing river and chirping birds\"\n",
        "steps = 10\n",
        "duration_in_seconds = 10\n",
        "guidance_scale = 2.5\n",
        "\n",
        "# Optional: Set a negative prompt to guide what the audio should not include\n",
        "negative_prompt = \"low quality, noisy\"\n"
      ]
    },
    {
      "cell_type": "code",
      "execution_count": null,
      "metadata": {
        "id": "xEjzH9s4ALiU"
      },
      "outputs": [],
      "source": [
        "# `Generate audio based on the prompt\n",
        "generator = torch.Generator(\"cuda\").manual_seed(0)  # You can change the seed for different variations\n",
        "waveform = pipe(prompt=text_prompt, audio_length_in_s=duration_in_seconds, num_inference_steps=steps, guidance_scale=guidance_scale, negative_prompt=negative_prompt, generator=generator).audios[0]\n",
        "\n",
        "# Save the audio\n",
        "output_path = \"/content/generated_audio.wav\"\n",
        "sf.write(output_path, waveform, samplerate=16000)\n",
        "\n",
        "# Display the audio player for playback\n",
        "display(Audio(output_path))\n"
      ]
    }
  ],
  "metadata": {
    "accelerator": "GPU",
    "colab": {
      "gpuType": "T4",
      "provenance": [],
      "include_colab_link": true
    },
    "kernelspec": {
      "display_name": "Python 3",
      "name": "python3"
    },
    "language_info": {
      "name": "python"
    }
  },
  "nbformat": 4,
  "nbformat_minor": 0
}